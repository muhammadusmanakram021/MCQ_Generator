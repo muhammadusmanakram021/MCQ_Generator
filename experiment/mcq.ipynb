{
 "cells": [
  {
   "cell_type": "code",
   "execution_count": 24,
   "metadata": {},
   "outputs": [],
   "source": [
    "import os\n",
    "import json\n",
    "import pandas as pd\n",
    "import traceback\n"
   ]
  },
  {
   "cell_type": "code",
   "execution_count": 25,
   "metadata": {},
   "outputs": [
    {
     "data": {
      "text/plain": [
       "True"
      ]
     },
     "execution_count": 25,
     "metadata": {},
     "output_type": "execute_result"
    }
   ],
   "source": [
    "from langchain_openai import ChatOpenAI\n",
    "from langchain.chains import LLMChain\n",
    "from langchain.chains import SequentialChain\n",
    "from langchain.prompts import PromptTemplate\n",
    "from langchain_community.callbacks import get_openai_callback\n",
    "import PyPDF2\n",
    "from dotenv import load_dotenv\n",
    "load_dotenv()"
   ]
  },
  {
   "cell_type": "code",
   "execution_count": 26,
   "metadata": {},
   "outputs": [],
   "source": [
    "SECRET_KEY=os.getenv(\"OPENAI_API_KEY\")"
   ]
  },
  {
   "cell_type": "code",
   "execution_count": 27,
   "metadata": {},
   "outputs": [],
   "source": [
    "llm = ChatOpenAI(\n",
    "    openai_api_key=SECRET_KEY,\n",
    "    model=\"gpt-3.5-turbo\",\n",
    "    temperature=0.5,\n",
    "    # max_tokens=None,\n",
    "    # timeout=None,\n",
    "    # max_retries=2,\n",
    "    # api_key=\"...\",  # if you prefer to pass api key in directly instaed of using env vars\n",
    "    # base_url=\"...\",\n",
    "    # organization=\"...\",\n",
    "    # other params...\n",
    ")"
   ]
  },
  {
   "cell_type": "code",
   "execution_count": 28,
   "metadata": {},
   "outputs": [],
   "source": [
    "RESPONSE_JSON = {\n",
    "    \"1\": {\n",
    "        \"mcq\": \"multiple choice question\",\n",
    "        \"options\": {\n",
    "            \"a\": \"choice here\",\n",
    "            \"b\": \"choice here\",\n",
    "            \"c\": \"choice here\",\n",
    "            \"d\": \"choice here\",\n",
    "        },\n",
    "        \"correct\": \"correct answer\",\n",
    "    },\n",
    "    \"2\": {\n",
    "        \"mcq\": \"multiple choice question\",\n",
    "        \"options\": {\n",
    "            \"a\": \"choice here\",\n",
    "            \"b\": \"choice here\",\n",
    "            \"c\": \"choice here\",\n",
    "            \"d\": \"choice here\",\n",
    "        },\n",
    "        \"correct\": \"correct answer\",\n",
    "    },\n",
    "    \"3\": {\n",
    "        \"mcq\": \"multiple choice question\",\n",
    "        \"options\": {\n",
    "            \"a\": \"choice here\",\n",
    "            \"b\": \"choice here\",\n",
    "            \"c\": \"choice here\",\n",
    "            \"d\": \"choice here\",\n",
    "        },\n",
    "        \"correct\": \"correct answer\",\n",
    "    },\n",
    "}"
   ]
  },
  {
   "cell_type": "code",
   "execution_count": 29,
   "metadata": {},
   "outputs": [],
   "source": [
    "TEMPLATE=\"\"\"\n",
    "Text:{text}\n",
    "You are an expert MCQ maker. Given the above text, it is your job to \\\n",
    "create a quiz  of {number} multiple choice questions for {subject} students in {tone} tone. \n",
    "Make sure the questions are not repeated and check all the questions to be conforming the text as well.\n",
    "Make sure to format your response like  RESPONSE_JSON below  and use it as a guide. \\\n",
    "Ensure to make {number} MCQs\n",
    "### RESPONSE_JSON\n",
    "{response_json}\n",
    "\n",
    "\"\"\""
   ]
  },
  {
   "cell_type": "code",
   "execution_count": 30,
   "metadata": {},
   "outputs": [],
   "source": [
    "quiz_generation_prompt=PromptTemplate(\n",
    "    input_variables=[\"text\", \"number\", \"subject\", \"tone\", \"response_json\"],\n",
    "    template=TEMPLATE\n",
    ")"
   ]
  },
  {
   "cell_type": "code",
   "execution_count": 31,
   "metadata": {},
   "outputs": [],
   "source": [
    "quiz_chain=LLMChain(llm=llm, prompt=quiz_generation_prompt, output_key=\"quiz\", verbose=True)"
   ]
  },
  {
   "cell_type": "code",
   "execution_count": 32,
   "metadata": {},
   "outputs": [],
   "source": [
    "TEMPLATE2=\"\"\"\n",
    "You are an expert english grammarian and writer. Given a Multiple Choice Quiz for {subject} students.\\\n",
    "You need to evaluate the complexity of the question and give a complete analysis of the quiz. Only use at max 50 words for complexity analysis. \n",
    "if the quiz is not at per with the cognitive and analytical abilities of the students,\\\n",
    "update the quiz questions which needs to be changed and change the tone such that it perfectly fits the student abilities\n",
    "Quiz_MCQs:\n",
    "{quiz}\n",
    "\n",
    "Check from an expert English Writer of the above quiz:\n",
    "\"\"\""
   ]
  },
  {
   "cell_type": "markdown",
   "metadata": {},
   "source": []
  },
  {
   "cell_type": "code",
   "execution_count": 33,
   "metadata": {},
   "outputs": [],
   "source": [
    "quiz_evaluation_prompt=PromptTemplate(\n",
    "    input_variables=[\"subject\", \"quiz\"],\n",
    "    template=TEMPLATE2\n",
    ")"
   ]
  },
  {
   "cell_type": "code",
   "execution_count": 35,
   "metadata": {},
   "outputs": [],
   "source": [
    "review_chain=LLMChain(llm=llm, prompt=quiz_evaluation_prompt, output_key=\"review\", verbose=True)"
   ]
  },
  {
   "cell_type": "code",
   "execution_count": 40,
   "metadata": {},
   "outputs": [],
   "source": [
    "generate_evaluate_chain=SequentialChain(\n",
    "    chains=[quiz_chain, review_chain], \n",
    "    input_variables=[\"text\", \"number\", \"subject\", \"tone\", \"response_json\"],\n",
    "    output_variables=[\"quiz\", \"review\"], \n",
    "    verbose=True,\n",
    "    )"
   ]
  },
  {
   "cell_type": "code",
   "execution_count": 49,
   "metadata": {},
   "outputs": [],
   "source": [
    "file_path=r\"C:\\Users\\MSI TM\\MCQ_Generator\\data.txt\"\n",
    "with open(file_path, 'r') as file:\n",
    "    TEXT=file.read()\n",
    "    #print(TEXT)"
   ]
  },
  {
   "cell_type": "code",
   "execution_count": 50,
   "metadata": {},
   "outputs": [
    {
     "data": {
      "text/plain": [
       "'{\"1\": {\"mcq\": \"multiple choice question\", \"options\": {\"a\": \"choice here\", \"b\": \"choice here\", \"c\": \"choice here\", \"d\": \"choice here\"}, \"correct\": \"correct answer\"}, \"2\": {\"mcq\": \"multiple choice question\", \"options\": {\"a\": \"choice here\", \"b\": \"choice here\", \"c\": \"choice here\", \"d\": \"choice here\"}, \"correct\": \"correct answer\"}, \"3\": {\"mcq\": \"multiple choice question\", \"options\": {\"a\": \"choice here\", \"b\": \"choice here\", \"c\": \"choice here\", \"d\": \"choice here\"}, \"correct\": \"correct answer\"}}'"
      ]
     },
     "execution_count": 50,
     "metadata": {},
     "output_type": "execute_result"
    }
   ],
   "source": [
    "json.dumps(RESPONSE_JSON)"
   ]
  },
  {
   "cell_type": "code",
   "execution_count": 53,
   "metadata": {},
   "outputs": [],
   "source": [
    "NUMBER=5\n",
    "SUBJECT=\"generative ai\"\n",
    "TONE=\"simple\""
   ]
  },
  {
   "cell_type": "code",
   "execution_count": 55,
   "metadata": {},
   "outputs": [
    {
     "name": "stderr",
     "output_type": "stream",
     "text": [
      "C:\\Users\\MSI TM\\AppData\\Local\\Temp\\ipykernel_22756\\1250213335.py:2: LangChainDeprecationWarning: The method `Chain.__call__` was deprecated in langchain 0.1.0 and will be removed in 1.0. Use :meth:`~invoke` instead.\n",
      "  response=generate_evaluate_chain(\n"
     ]
    },
    {
     "name": "stdout",
     "output_type": "stream",
     "text": [
      "\n",
      "\n",
      "\u001b[1m> Entering new SequentialChain chain...\u001b[0m\n",
      "\n",
      "\n",
      "\u001b[1m> Entering new LLMChain chain...\u001b[0m\n",
      "Prompt after formatting:\n",
      "\u001b[32;1m\u001b[1;3m\n",
      "Text:The term “democratizing innovation” was coined by MIT’s Eric von Hippel, who, since the mid-1970s, has been researching and writing about the potential for users of products and services to develop what they need themselves rather than simply relying on companies to do so. In the past two decades or so, the notion of deeply involving users in the innovation process has taken off, and today companies use crowdsourcing and innovation contests to generate a multitude of new ideas. However, many enterprises struggle to capitalize on these contributions because of four challenges.\n",
      "\n",
      "First, efforts to democratize innovation may result in evaluation overload. Crowdsourcing, for instance, may produce a flood of ideas, many of which end up being dumped or disregarded because companies have no efficient way to evaluate them or merge incomplete or minor ideas that could prove potent in combination.\n",
      "\n",
      "Second, companies may fall prey to the curse of expertise. Domain experts who are best at generating and identifying feasible ideas often struggle with generating or even accepting novel ideas.\n",
      "\n",
      "Third, people who lack domain expertise may identify novel ideas but may be unable to provide the details that would make the ideas feasible. They can’t translate messy ideas into coherent designs.\n",
      "\n",
      "And finally, companies have trouble seeing the forest for the trees. Organizations focus on synthesizing a host of customer requirements but struggle to produce a comprehensive solution that will appeal to the community at large.\n",
      "\n",
      "Generative AI tools can solve an important challenge faced in idea contests: combining or merging a large number of ideas to produce much stronger ones.\n",
      "\n",
      "Our research and our experience working with companies, academic institutions, governments, and militaries on hundreds of innovation efforts—some with and some without the use of generative AI—have demonstrated that this technology can help organizations overcome these challenges. It can augment the creativity of employees and customers and help them generate and identify novel ideas—and improve the quality of raw ideas. We have observed the following five ways.\n",
      "\n",
      "1. Promote Divergent Thinking\n",
      "Generative AI can support divergent thinking by making associations among remote concepts and producing ideas drawn from them. Here’s an example of how we used Midjourney, a text-to-image algorithm that can detect analogical resemblances between images, to generate novel product designs based on textual prompts from a human. (We utilized Midjourney, ChatGPT, and Stable Diffusion for the examples in this article, but they are just a few of a host of generative AI tools that are now available.) We asked Midjourney to create an image that combined an elephant and a butterfly, and it produced the chimera we dubbed “phantafly.”\n",
      "\n",
      "We then used the detailed rendering from Midjourney to inspire prompts in Stable Diffusion, another popular text-to-image model. Stable Diffusion generated a range of ideas for different product categories, including chairs and artisanal chocolate candies. \n",
      "\n",
      "A grouping of three images. The first is a typical gray elephant but with splayed ears the color and shape of a blue butterfly’s wings and with a colorful butterfly at the end of its tail. The second is a five by four grid. Each of the twenty squares contains a colorful chair with elements of the elephant-butterfly creation. The third is a five by four grid. Each of the twenty squares contains what look like handcrafted chocolates, each with different characteristics of the elephant-butterfly creation.\n",
      "The authors prompted Midjourney to produce an image combining an elephant and a butterfly; they dubbed this creation “phantafly” (left). Then the authors prompted Stable Diffusion to generate designs for chairs and for artisanal chocolates inspired by “phantafly” (right).Midjourney; Stable Diffusion\n",
      "Rapidly and inexpensively producing a plethora of designs in this way allows a company to evaluate a wide range of product concepts quickly. For example, a clothing company that uses generative AI to create new designs for T-shirts could stay on top of trends and offer a constantly changing selection of products to customers.\n",
      "\n",
      "Consider another example of how this technology can connect ideas to create concepts that an individual or a team might never have come up with themselves. We used ChatGPT, a type of generative AI known as a large language model, to guide the production of ideas. We asked it to generate ideas through a process of trisociation by connecting three distinct entities (an extension of the bisociation creativity technique). Our team gave ChatGPT the following prompt: “You will play the role of an ideator. You will randomly generate 10 common nouns. You will then randomly select any two of the 10 nouns. You will then ask me for a third noun. You will generate a business idea by combining or associating the two nouns you identified and the noun I identified.”\n",
      "\n",
      "ChatGPT generated the nouns “food” and “technology.” When prompted, we provided the additional noun “car.” ChatGPT produced the following business idea in short order: “A smart food-delivery service that uses self-driving cars to transport meals to customers. The technology aspect could involve using AI to optimize delivery routes, track food temperature in real time, and provide customers with real-time updates on the status of their orders. The service could target busy professionals and families who want convenient and healthy meal options without sacrificing taste and quality.”\n",
      "\n",
      "In a separate round, ChatGPT produced the nouns “airline” and “chair.” When prompted, we provided “university,” and ChatGPT came up with a business concept that provides a convenient, cost-effective way for students and academics to travel to conferences and workshops around the world along with access to a library of educational books during the flight. It proposed that the company be called Fly and Study or Edu-Fly.\n",
      "\n",
      "2. Challenge Expertise Bias\n",
      "During the early stages of new-product development, atypical designs created by generative AI can inspire designers to think beyond their preconceptions of what is possible or desirable in a product in terms of both form and function. This approach can lead to solutions that humans might never have imagined using a traditional approach, where the functions are determined first and the form is then designed to accommodate them. These inputs can help overcome biases such as design fixation (an overreliance on standard design forms), functional fixedness (a lack of ability to imagine a use beyond the traditional one), and the Einstellung effect, where individuals’ previous experiences impede them from considering new ways to solve problems.\n",
      "\n",
      "Here’s an example of this process. We asked Stable Diffusion to generate generic designs of crab-inspired toys but provided it with no functional specifications. Then we imagined functional capabilities after seeing the designs. For instance, in the collection of crab-inspired toys shown below, the image in the top left could be developed into a wall-climbing toy; the image next to it could be a toy that launches a small ball across a room. The crab on a plate near the center could become a slow-feeder dish for pets.\n",
      "\n",
      "A five by four grid of images; each of the twenty squares contains a picture of a different crab-inspired toy design. The toy designs vary in color, composition, and style.\n",
      "The authors asked Stable Diffusion to come up with crab-inspired toy concepts.Stable Diffusion\n",
      "This is not a completely novel way to come up with unusual products: Much of the architecture and ride functionality in theme parks such as Disney World has been driven by a desire to re-create scenes and characters from a story. But generative AI tools can help jump-start a company’s imaginative designs.\n",
      "\n",
      "3. Assist in Idea Evaluation\n",
      "Generative AI tools can assist in other aspects of the front end of innovation, including by increasing the specificity of ideas and by evaluating ideas and sometimes combining them. Consider an innovation challenge where the goal is to identify ways to minimize food waste. ChatGPT assessed the pros and cons of three raw ideas: (1) packaging with dynamic expiration dates (labels that automatically change either the dates or colors based on the environmental conditions in the places where they are stored); (2) an app to help users donate food; and (3) a campaign to educate people on types of expiration dates and what they represent in terms of freshness and fitness for use. ChatGPT produced a balanced analysis of the pros and cons that mirrored what we might expect from an exchange between two interested persons discussing the merits of such ideas.\n",
      "\n",
      "When ChatGPT evaluated the concept of dynamic expiration-date packaging, for instance, it determined that it would help consumers better understand the shelf life of products and encourage food manufacturers to produce smaller batches that would be replenished more frequently on grocery shelves. In addition, ChatGPT pointed out that dynamic expiration dates may require significant changes to the manufacturing and packaging process and as a result, could increase the costs to both manufacturers and consumers.\n",
      "\n",
      "ChatGPT determined that the food-donation app could encourage people to use up their food before it goes bad and reduce food waste by giving unopened, edible food to those in need. It cautioned that the app may require a large user base to be effective and that the transportation and distribution of food from a wide variety of unregulated sources could pose safety concerns.\n",
      "\n",
      "Generative AI’s greatest potential is not replacing humans; it is to assist humans in their efforts to create hitherto unimaginable solutions.\n",
      "\n",
      "It stated that the pros of an education program for consumers were increasing consumer awareness of the meaning of different expiration labels and helping them make more-informed decisions about food purchases and waste. But ChatGPT warned that this education program could be overly complex because expiration dates are not standardized across all food products. And it cautioned that educating users on different types of expiration dates can be costly if the program is broad in scope, particularly if it involves widespread campaigns or educational materials.\n",
      "\n",
      "Generative AI can go beyond simple pros and cons and help humans evaluate dimensions of creativity such as novelty, feasibility, specificity, impact, and workability. We asked ChatGPT to assess the same examples using these criteria.\n",
      "\n",
      "Here is its assessment of the dynamic expiration-date packaging concept:\n",
      "Novelty: Somewhat novel. There have been efforts to develop smart packaging that can extend the shelf life of food products, but the idea of dynamic expiration dates is an emerging concept.\n",
      "\n",
      "Feasibility: May be challenging to implement as it requires the development of new packaging materials and technologies. It would also require collaboration with food manufacturers, regulators, and distributors.\n",
      "\n",
      "Specificity: It’s specific in that it addresses the problem of food waste by providing consumers with more-accurate expiration dates for their food.\n",
      "\n",
      "Impact: Could have a significant impact on reducing food waste and improving food safety. When provided with more-accurate expiration dates, consumers would be more likely to use their food before it goes bad.\n",
      "\n",
      "Workability: It would most likely require significant resources and expertise to develop and implement and may take several years to fully realize its potential.\n",
      "\n",
      "Here is ChatGPT’s assessment of the app for donating food close to expiration:\n",
      "Novelty: Not particularly novel. There are already many programs and organizations dedicated to reducing food waste and donating surplus food to those in need.\n",
      "\n",
      "Feasibility: Highly feasible. There are many established models and an infrastructure in place to support food donation efforts.\n",
      "\n",
      "Specificity: Specific in its aim to reduce food waste and address issues of food insecurity.\n",
      "\n",
      "Impact: Has the potential to make a significant impact as it addresses both food waste and hunger. By redirecting surplus food to those in need, it can help reduce food waste while also improving food security for vulnerable populations.\n",
      "\n",
      "Workability: Highly workable in that it can be implemented quickly and at a relatively low cost. It would require partnerships with food manufacturers, distributors, and food banks, as well as volunteers to collect and distribute the donated food.\n",
      "\n",
      "Finally, here is how ChatGPT evaluated the idea to educate users on different types of expiration dates:\n",
      "Novelty: Not particularly novel. There have been efforts to educate consumers on the meaning of expiration dates and how to properly store food to extend its shelf life.\n",
      "\n",
      "Feasibility: Highly feasible. It can be implemented through various means, such as public awareness campaigns, educational materials, and media outreach.\n",
      "\n",
      "Specificity: Specific in its aim to educate consumers on the different expiration dates and how to properly store food to reduce food waste.\n",
      "\n",
      "Impact: Potentially significant. Educating consumers on the different expiration dates and how to properly store food will make them more mindful of food waste and take steps to reduce it.\n",
      "\n",
      "Workability: Highly workable and can be implemented at a relatively low cost. It would require collaboration with food industry groups, government agencies, and other organizations to develop and distribute educational materials.\n",
      "\n",
      "Using ChatGPT’s assessments, it would be relatively easy to evaluate these three concepts, or quickly score or organize them based on the criteria that matter most.\n",
      "\n",
      "4. Support Idea Refinement\n",
      "Generative AI tools can solve an important challenge faced in idea contests: combining or merging a large number of ideas to produce much stronger ones. For example, an organization that is trying to win a contract or a grant to develop a food-waste-reduction program can use the tools to combine the three concepts discussed earlier. We did this in two steps. First, we asked ChatGPT to flesh out each of the concepts:\n",
      "\n",
      "“Dynamic expiration dates are a solution aimed at reducing food waste. This involves incorporating technology into packaging that can track and adjust the shelf life of products in real time. By using sensors, the expiration date can be updated based on changes in environmental factors, providing consumers with a more accurate estimate of when a product will go bad.”\n",
      "“An app that enables consumers to donate food close to its expiration date aims to reduce food waste by giving unopened, edible food to those in need. The app connects individuals who have surplus food to local organizations that can use it. By using technology to facilitate food donations, the app can help reduce food waste and provide for those in need.”\n",
      "“Educating users on the different types of expiration dates can help users make informed decisions about purchasing and consuming food, reducing waste, and saving money. By clarifying the meaning of ‘best before,’ ‘use by,’ and other expiration labels, an education campaign can help users better understand how to determine if food is safe to eat and when it is time to dispose of it.”\n",
      "Next we asked ChatGPT to merge all three ideas into one food-waste program. In short order it produced the following description: “The comprehensive food-waste-reduction solution involves creating smart packaging with dynamic expiration dates, establishing a program for donating surplus food, and educating the public on the importance of understanding food expiration dates. The smart packaging helps consumers make informed decisions about food freshness, the donation program ensures surplus food is put to good use, and education raises awareness about the impact of food waste. This solution has the potential to significantly reduce food waste and create a more sustainable future by empowering consumers, working with industry and government, and making better use of surplus food.”\n",
      "\n",
      "5. Facilitate Collaboration with and Among Users\n",
      "When developing new product ideas or designs, generative AI can facilitate collaborations between a company’s designers and users of a prospective product and among users themselves. In other words, the technology makes co-creation of new offerings much easier and less expensive. For example, a business can give users access to tools to generate designs and then create a personalized version of the product based on the customer’s preferences. Alternatively, users’ designs could be posted on a crowdsourcing platform where they are evaluated by the community. The top designs could then be further developed by additional collaborators.\n",
      "\n",
      "To illustrate the potential, we show how a flying car—something people have been trying to develop for more than 100 years without much success—might be designed. We gave Stable Diffusion this prompt: “Design a product that can fly but also drive on the road, a flying automobile.” Stable Diffusion generated several designs, and we selected what we considered to be the most promising one: the vehicle in the lower right corner of the image below.\n",
      "\n",
      "A three by two grid of images; each of the six squares contains an image of a different flying-automobile concept. The vehicles vary in color and form.\n",
      "The authors asked Stable Diffusion to design a flying automobile.Stable Diffusion\n",
      "Then we asked Stable Diffusion to take that design and reimagine the concept so that the car “resembles a robot eagle.” The image below shows the variations that the generative AI program quickly produced—from the top left design that looks most like a robot eagle to the more feasible concept of a flying automobile in the lower right corner.\n",
      "\n",
      "A three by two grid of images; each of the six squares contains an image of a flying-car design. The six flying cars all have the same basic shape, but each one contains unique variations, such as feather shaped additions at different places, designed to make it resemble a robot eagle.\n",
      "The authors chose one of the flying-automobile designs and asked Stable Diffusion to reimagine it to resemble a robot eagle.Stable Diffusion\n",
      "A second example illustrates how designers can use such tools to collaborate on thematic variations of a structural design. They began with a flying-automobile design generated by AI and asked the tool to produce versions that resembled a dragonfly, a tiger, a tortoise, and an eagle.\n",
      "\n",
      "A grouping of two images. The first shows a concept for a flying automobile that has two looping wings on top, a turtle-shell shaped body, and wheels and landing gear at the bottom. The second image is a two by two grid; each of the four images in it has a variation of the design from the first.\n",
      "This image is another AI-generated concept of a flying car (left) with versions that resemble a dragonfly, a tiger, a tortoise, and an eagle (right).Stable Diffusion\n",
      "An alternate approach is for human collaborators to use a tool like ChatGPT to develop details of the product and then use one like Stable Diffusion to obtain visual designs based on a series of prompts that build upon one another. We gave ChatGPT a similar prompt to what we had given to Stable Diffusion: “Describe a product that can fly but also drive on the road, a flying automobile.”\n",
      "\n",
      "ChatGPT provided this description: “The flying automobile is a sleek and futuristic vehicle that is built for the ultimate adventure. It has the appearance of a stylish sports car with smooth curves and polished exterior but with hidden rotors that allow it to take flight.”\n",
      "\n",
      "Subscribe to our Monthly Newsletter\n",
      "Strategy & Execution\n",
      "The tools you need to craft strategic plans — and how to make them happen.\n",
      "Sign Up\n",
      "When we gave that description to Stable Diffusion, it provided the image below on the left. Next we asked ChatGPT to reimagine the description to include the information that the product must resemble a dragonfly and have illumination markers for flying at night. It came back with the following: “With its slender body, extended wings, and hidden rotors, the vehicle is reminiscent of a dragonfly come to life. The illuminated markers located along the wings and body create a stunning visual effect, helping to make the vehicle visible in the darkness.”\n",
      "\n",
      "Stable Diffusion translated that description into various versions that maintained the feasible design and added elements of illumination based on the pattern of a dragonfly’s wings. The images below on the right are examples.\n",
      "\n",
      "A grouping of two images. The first shows a flying car design that resembles a sleek computer mouse with wheels. It looks aerodynamic, with a tapered nose and no obvious lateral wings. The second image is a two by two grid; each of the four flying car designs is a variation of the first design. Each car has unique differences in the design of its surface, resembling insect wings or streaks of neon light.\n",
      "The authors used ChatGPT to describe a flying automobile and asked Stable Diffusion to generate a design from that description (left) and then variations on the design that incorporate dragonfly details and illumination (right).Stable Diffusion\n",
      ". . .\n",
      "Humans have boundless creativity. However, the challenge of communicating their concepts in written or visual form restricts vast numbers of people from contributing new ideas. Generative AI can remove this obstacle. As with any truly innovative capability, there will undoubtedly be resistance to it. Long-standing innovation processes will have to change. People with vested interests in the old way of doing things—especially those worried about being rendered obsolete—will resist. But the advantages—the opportunities to dramatically increase the number and novelty of ideas from both inside and outside the organization—will make the journey worthwhile. Generative AI’s greatest potential is not replacing humans; it is to assist humans in their individual and collective efforts to create hitherto unimaginable solutions. It can truly democratize innovation.\n",
      "You are an expert MCQ maker. Given the above text, it is your job to create a quiz  of 5 multiple choice questions for generative ai students in simple tone. \n",
      "Make sure the questions are not repeated and check all the questions to be conforming the text as well.\n",
      "Make sure to format your response like  RESPONSE_JSON below  and use it as a guide. Ensure to make 5 MCQs\n",
      "### RESPONSE_JSON\n",
      "{\"1\": {\"mcq\": \"multiple choice question\", \"options\": {\"a\": \"choice here\", \"b\": \"choice here\", \"c\": \"choice here\", \"d\": \"choice here\"}, \"correct\": \"correct answer\"}, \"2\": {\"mcq\": \"multiple choice question\", \"options\": {\"a\": \"choice here\", \"b\": \"choice here\", \"c\": \"choice here\", \"d\": \"choice here\"}, \"correct\": \"correct answer\"}, \"3\": {\"mcq\": \"multiple choice question\", \"options\": {\"a\": \"choice here\", \"b\": \"choice here\", \"c\": \"choice here\", \"d\": \"choice here\"}, \"correct\": \"correct answer\"}}\n",
      "\n",
      "\u001b[0m\n",
      "\n",
      "\u001b[1m> Finished chain.\u001b[0m\n",
      "\n",
      "\n",
      "\u001b[1m> Entering new LLMChain chain...\u001b[0m\n",
      "Prompt after formatting:\n",
      "\u001b[32;1m\u001b[1;3m\n",
      "Text:The term “democratizing innovation” was coined by MIT’s Eric von Hippel, who, since the mid-1970s, has been researching and writing about the potential for users of products and services to develop what they need themselves rather than simply relying on companies to do so. In the past two decades or so, the notion of deeply involving users in the innovation process has taken off, and today companies use crowdsourcing and innovation contests to generate a multitude of new ideas. However, many enterprises struggle to capitalize on these contributions because of four challenges.\n",
      "\n",
      "First, efforts to democratize innovation may result in evaluation overload. Crowdsourcing, for instance, may produce a flood of ideas, many of which end up being dumped or disregarded because companies have no efficient way to evaluate them or merge incomplete or minor ideas that could prove potent in combination.\n",
      "\n",
      "Second, companies may fall prey to the curse of expertise. Domain experts who are best at generating and identifying feasible ideas often struggle with generating or even accepting novel ideas.\n",
      "\n",
      "Third, people who lack domain expertise may identify novel ideas but may be unable to provide the details that would make the ideas feasible. They can’t translate messy ideas into coherent designs.\n",
      "\n",
      "And finally, companies have trouble seeing the forest for the trees. Organizations focus on synthesizing a host of customer requirements but struggle to produce a comprehensive solution that will appeal to the community at large.\n",
      "\n",
      "Generative AI tools can solve an important challenge faced in idea contests: combining or merging a large number of ideas to produce much stronger ones.\n",
      "\n",
      "Our research and our experience working with companies, academic institutions, governments, and militaries on hundreds of innovation efforts—some with and some without the use of generative AI—have demonstrated that this technology can help organizations overcome these challenges. It can augment the creativity of employees and customers and help them generate and identify novel ideas—and improve the quality of raw ideas. We have observed the following five ways.\n",
      "\n",
      "1. Promote Divergent Thinking\n",
      "Generative AI can support divergent thinking by making associations among remote concepts and producing ideas drawn from them. Here’s an example of how we used Midjourney, a text-to-image algorithm that can detect analogical resemblances between images, to generate novel product designs based on textual prompts from a human. (We utilized Midjourney, ChatGPT, and Stable Diffusion for the examples in this article, but they are just a few of a host of generative AI tools that are now available.) We asked Midjourney to create an image that combined an elephant and a butterfly, and it produced the chimera we dubbed “phantafly.”\n",
      "\n",
      "We then used the detailed rendering from Midjourney to inspire prompts in Stable Diffusion, another popular text-to-image model. Stable Diffusion generated a range of ideas for different product categories, including chairs and artisanal chocolate candies. \n",
      "\n",
      "A grouping of three images. The first is a typical gray elephant but with splayed ears the color and shape of a blue butterfly’s wings and with a colorful butterfly at the end of its tail. The second is a five by four grid. Each of the twenty squares contains a colorful chair with elements of the elephant-butterfly creation. The third is a five by four grid. Each of the twenty squares contains what look like handcrafted chocolates, each with different characteristics of the elephant-butterfly creation.\n",
      "The authors prompted Midjourney to produce an image combining an elephant and a butterfly; they dubbed this creation “phantafly” (left). Then the authors prompted Stable Diffusion to generate designs for chairs and for artisanal chocolates inspired by “phantafly” (right).Midjourney; Stable Diffusion\n",
      "Rapidly and inexpensively producing a plethora of designs in this way allows a company to evaluate a wide range of product concepts quickly. For example, a clothing company that uses generative AI to create new designs for T-shirts could stay on top of trends and offer a constantly changing selection of products to customers.\n",
      "\n",
      "Consider another example of how this technology can connect ideas to create concepts that an individual or a team might never have come up with themselves. We used ChatGPT, a type of generative AI known as a large language model, to guide the production of ideas. We asked it to generate ideas through a process of trisociation by connecting three distinct entities (an extension of the bisociation creativity technique). Our team gave ChatGPT the following prompt: “You will play the role of an ideator. You will randomly generate 10 common nouns. You will then randomly select any two of the 10 nouns. You will then ask me for a third noun. You will generate a business idea by combining or associating the two nouns you identified and the noun I identified.”\n",
      "\n",
      "ChatGPT generated the nouns “food” and “technology.” When prompted, we provided the additional noun “car.” ChatGPT produced the following business idea in short order: “A smart food-delivery service that uses self-driving cars to transport meals to customers. The technology aspect could involve using AI to optimize delivery routes, track food temperature in real time, and provide customers with real-time updates on the status of their orders. The service could target busy professionals and families who want convenient and healthy meal options without sacrificing taste and quality.”\n",
      "\n",
      "In a separate round, ChatGPT produced the nouns “airline” and “chair.” When prompted, we provided “university,” and ChatGPT came up with a business concept that provides a convenient, cost-effective way for students and academics to travel to conferences and workshops around the world along with access to a library of educational books during the flight. It proposed that the company be called Fly and Study or Edu-Fly.\n",
      "\n",
      "2. Challenge Expertise Bias\n",
      "During the early stages of new-product development, atypical designs created by generative AI can inspire designers to think beyond their preconceptions of what is possible or desirable in a product in terms of both form and function. This approach can lead to solutions that humans might never have imagined using a traditional approach, where the functions are determined first and the form is then designed to accommodate them. These inputs can help overcome biases such as design fixation (an overreliance on standard design forms), functional fixedness (a lack of ability to imagine a use beyond the traditional one), and the Einstellung effect, where individuals’ previous experiences impede them from considering new ways to solve problems.\n",
      "\n",
      "Here’s an example of this process. We asked Stable Diffusion to generate generic designs of crab-inspired toys but provided it with no functional specifications. Then we imagined functional capabilities after seeing the designs. For instance, in the collection of crab-inspired toys shown below, the image in the top left could be developed into a wall-climbing toy; the image next to it could be a toy that launches a small ball across a room. The crab on a plate near the center could become a slow-feeder dish for pets.\n",
      "\n",
      "A five by four grid of images; each of the twenty squares contains a picture of a different crab-inspired toy design. The toy designs vary in color, composition, and style.\n",
      "The authors asked Stable Diffusion to come up with crab-inspired toy concepts.Stable Diffusion\n",
      "This is not a completely novel way to come up with unusual products: Much of the architecture and ride functionality in theme parks such as Disney World has been driven by a desire to re-create scenes and characters from a story. But generative AI tools can help jump-start a company’s imaginative designs.\n",
      "\n",
      "3. Assist in Idea Evaluation\n",
      "Generative AI tools can assist in other aspects of the front end of innovation, including by increasing the specificity of ideas and by evaluating ideas and sometimes combining them. Consider an innovation challenge where the goal is to identify ways to minimize food waste. ChatGPT assessed the pros and cons of three raw ideas: (1) packaging with dynamic expiration dates (labels that automatically change either the dates or colors based on the environmental conditions in the places where they are stored); (2) an app to help users donate food; and (3) a campaign to educate people on types of expiration dates and what they represent in terms of freshness and fitness for use. ChatGPT produced a balanced analysis of the pros and cons that mirrored what we might expect from an exchange between two interested persons discussing the merits of such ideas.\n",
      "\n",
      "When ChatGPT evaluated the concept of dynamic expiration-date packaging, for instance, it determined that it would help consumers better understand the shelf life of products and encourage food manufacturers to produce smaller batches that would be replenished more frequently on grocery shelves. In addition, ChatGPT pointed out that dynamic expiration dates may require significant changes to the manufacturing and packaging process and as a result, could increase the costs to both manufacturers and consumers.\n",
      "\n",
      "ChatGPT determined that the food-donation app could encourage people to use up their food before it goes bad and reduce food waste by giving unopened, edible food to those in need. It cautioned that the app may require a large user base to be effective and that the transportation and distribution of food from a wide variety of unregulated sources could pose safety concerns.\n",
      "\n",
      "Generative AI’s greatest potential is not replacing humans; it is to assist humans in their efforts to create hitherto unimaginable solutions.\n",
      "\n",
      "It stated that the pros of an education program for consumers were increasing consumer awareness of the meaning of different expiration labels and helping them make more-informed decisions about food purchases and waste. But ChatGPT warned that this education program could be overly complex because expiration dates are not standardized across all food products. And it cautioned that educating users on different types of expiration dates can be costly if the program is broad in scope, particularly if it involves widespread campaigns or educational materials.\n",
      "\n",
      "Generative AI can go beyond simple pros and cons and help humans evaluate dimensions of creativity such as novelty, feasibility, specificity, impact, and workability. We asked ChatGPT to assess the same examples using these criteria.\n",
      "\n",
      "Here is its assessment of the dynamic expiration-date packaging concept:\n",
      "Novelty: Somewhat novel. There have been efforts to develop smart packaging that can extend the shelf life of food products, but the idea of dynamic expiration dates is an emerging concept.\n",
      "\n",
      "Feasibility: May be challenging to implement as it requires the development of new packaging materials and technologies. It would also require collaboration with food manufacturers, regulators, and distributors.\n",
      "\n",
      "Specificity: It’s specific in that it addresses the problem of food waste by providing consumers with more-accurate expiration dates for their food.\n",
      "\n",
      "Impact: Could have a significant impact on reducing food waste and improving food safety. When provided with more-accurate expiration dates, consumers would be more likely to use their food before it goes bad.\n",
      "\n",
      "Workability: It would most likely require significant resources and expertise to develop and implement and may take several years to fully realize its potential.\n",
      "\n",
      "Here is ChatGPT’s assessment of the app for donating food close to expiration:\n",
      "Novelty: Not particularly novel. There are already many programs and organizations dedicated to reducing food waste and donating surplus food to those in need.\n",
      "\n",
      "Feasibility: Highly feasible. There are many established models and an infrastructure in place to support food donation efforts.\n",
      "\n",
      "Specificity: Specific in its aim to reduce food waste and address issues of food insecurity.\n",
      "\n",
      "Impact: Has the potential to make a significant impact as it addresses both food waste and hunger. By redirecting surplus food to those in need, it can help reduce food waste while also improving food security for vulnerable populations.\n",
      "\n",
      "Workability: Highly workable in that it can be implemented quickly and at a relatively low cost. It would require partnerships with food manufacturers, distributors, and food banks, as well as volunteers to collect and distribute the donated food.\n",
      "\n",
      "Finally, here is how ChatGPT evaluated the idea to educate users on different types of expiration dates:\n",
      "Novelty: Not particularly novel. There have been efforts to educate consumers on the meaning of expiration dates and how to properly store food to extend its shelf life.\n",
      "\n",
      "Feasibility: Highly feasible. It can be implemented through various means, such as public awareness campaigns, educational materials, and media outreach.\n",
      "\n",
      "Specificity: Specific in its aim to educate consumers on the different expiration dates and how to properly store food to reduce food waste.\n",
      "\n",
      "Impact: Potentially significant. Educating consumers on the different expiration dates and how to properly store food will make them more mindful of food waste and take steps to reduce it.\n",
      "\n",
      "Workability: Highly workable and can be implemented at a relatively low cost. It would require collaboration with food industry groups, government agencies, and other organizations to develop and distribute educational materials.\n",
      "\n",
      "Using ChatGPT’s assessments, it would be relatively easy to evaluate these three concepts, or quickly score or organize them based on the criteria that matter most.\n",
      "\n",
      "4. Support Idea Refinement\n",
      "Generative AI tools can solve an important challenge faced in idea contests: combining or merging a large number of ideas to produce much stronger ones. For example, an organization that is trying to win a contract or a grant to develop a food-waste-reduction program can use the tools to combine the three concepts discussed earlier. We did this in two steps. First, we asked ChatGPT to flesh out each of the concepts:\n",
      "\n",
      "“Dynamic expiration dates are a solution aimed at reducing food waste. This involves incorporating technology into packaging that can track and adjust the shelf life of products in real time. By using sensors, the expiration date can be updated based on changes in environmental factors, providing consumers with a more accurate estimate of when a product will go bad.”\n",
      "“An app that enables consumers to donate food close to its expiration date aims to reduce food waste by giving unopened, edible food to those in need. The app connects individuals who have surplus food to local organizations that can use it. By using technology to facilitate food donations, the app can help reduce food waste and provide for those in need.”\n",
      "“Educating users on the different types of expiration dates can help users make informed decisions about purchasing and consuming food, reducing waste, and saving money. By clarifying the meaning of ‘best before,’ ‘use by,’ and other expiration labels, an education campaign can help users better understand how to determine if food is safe to eat and when it is time to dispose of it.”\n",
      "Next we asked ChatGPT to merge all three ideas into one food-waste program. In short order it produced the following description: “The comprehensive food-waste-reduction solution involves creating smart packaging with dynamic expiration dates, establishing a program for donating surplus food, and educating the public on the importance of understanding food expiration dates. The smart packaging helps consumers make informed decisions about food freshness, the donation program ensures surplus food is put to good use, and education raises awareness about the impact of food waste. This solution has the potential to significantly reduce food waste and create a more sustainable future by empowering consumers, working with industry and government, and making better use of surplus food.”\n",
      "\n",
      "5. Facilitate Collaboration with and Among Users\n",
      "When developing new product ideas or designs, generative AI can facilitate collaborations between a company’s designers and users of a prospective product and among users themselves. In other words, the technology makes co-creation of new offerings much easier and less expensive. For example, a business can give users access to tools to generate designs and then create a personalized version of the product based on the customer’s preferences. Alternatively, users’ designs could be posted on a crowdsourcing platform where they are evaluated by the community. The top designs could then be further developed by additional collaborators.\n",
      "\n",
      "To illustrate the potential, we show how a flying car—something people have been trying to develop for more than 100 years without much success—might be designed. We gave Stable Diffusion this prompt: “Design a product that can fly but also drive on the road, a flying automobile.” Stable Diffusion generated several designs, and we selected what we considered to be the most promising one: the vehicle in the lower right corner of the image below.\n",
      "\n",
      "A three by two grid of images; each of the six squares contains an image of a different flying-automobile concept. The vehicles vary in color and form.\n",
      "The authors asked Stable Diffusion to design a flying automobile.Stable Diffusion\n",
      "Then we asked Stable Diffusion to take that design and reimagine the concept so that the car “resembles a robot eagle.” The image below shows the variations that the generative AI program quickly produced—from the top left design that looks most like a robot eagle to the more feasible concept of a flying automobile in the lower right corner.\n",
      "\n",
      "A three by two grid of images; each of the six squares contains an image of a flying-car design. The six flying cars all have the same basic shape, but each one contains unique variations, such as feather shaped additions at different places, designed to make it resemble a robot eagle.\n",
      "The authors chose one of the flying-automobile designs and asked Stable Diffusion to reimagine it to resemble a robot eagle.Stable Diffusion\n",
      "A second example illustrates how designers can use such tools to collaborate on thematic variations of a structural design. They began with a flying-automobile design generated by AI and asked the tool to produce versions that resembled a dragonfly, a tiger, a tortoise, and an eagle.\n",
      "\n",
      "A grouping of two images. The first shows a concept for a flying automobile that has two looping wings on top, a turtle-shell shaped body, and wheels and landing gear at the bottom. The second image is a two by two grid; each of the four images in it has a variation of the design from the first.\n",
      "This image is another AI-generated concept of a flying car (left) with versions that resemble a dragonfly, a tiger, a tortoise, and an eagle (right).Stable Diffusion\n",
      "An alternate approach is for human collaborators to use a tool like ChatGPT to develop details of the product and then use one like Stable Diffusion to obtain visual designs based on a series of prompts that build upon one another. We gave ChatGPT a similar prompt to what we had given to Stable Diffusion: “Describe a product that can fly but also drive on the road, a flying automobile.”\n",
      "\n",
      "ChatGPT provided this description: “The flying automobile is a sleek and futuristic vehicle that is built for the ultimate adventure. It has the appearance of a stylish sports car with smooth curves and polished exterior but with hidden rotors that allow it to take flight.”\n",
      "\n",
      "Subscribe to our Monthly Newsletter\n",
      "Strategy & Execution\n",
      "The tools you need to craft strategic plans — and how to make them happen.\n",
      "Sign Up\n",
      "When we gave that description to Stable Diffusion, it provided the image below on the left. Next we asked ChatGPT to reimagine the description to include the information that the product must resemble a dragonfly and have illumination markers for flying at night. It came back with the following: “With its slender body, extended wings, and hidden rotors, the vehicle is reminiscent of a dragonfly come to life. The illuminated markers located along the wings and body create a stunning visual effect, helping to make the vehicle visible in the darkness.”\n",
      "\n",
      "Stable Diffusion translated that description into various versions that maintained the feasible design and added elements of illumination based on the pattern of a dragonfly’s wings. The images below on the right are examples.\n",
      "\n",
      "A grouping of two images. The first shows a flying car design that resembles a sleek computer mouse with wheels. It looks aerodynamic, with a tapered nose and no obvious lateral wings. The second image is a two by two grid; each of the four flying car designs is a variation of the first design. Each car has unique differences in the design of its surface, resembling insect wings or streaks of neon light.\n",
      "The authors used ChatGPT to describe a flying automobile and asked Stable Diffusion to generate a design from that description (left) and then variations on the design that incorporate dragonfly details and illumination (right).Stable Diffusion\n",
      ". . .\n",
      "Humans have boundless creativity. However, the challenge of communicating their concepts in written or visual form restricts vast numbers of people from contributing new ideas. Generative AI can remove this obstacle. As with any truly innovative capability, there will undoubtedly be resistance to it. Long-standing innovation processes will have to change. People with vested interests in the old way of doing things—especially those worried about being rendered obsolete—will resist. But the advantages—the opportunities to dramatically increase the number and novelty of ideas from both inside and outside the organization—will make the journey worthwhile. Generative AI’s greatest potential is not replacing humans; it is to assist humans in their individual and collective efforts to create hitherto unimaginable solutions. It can truly democratize innovation.\n",
      "You are an expert MCQ maker. Given the above text, it is your job to create a quiz  of 5 multiple choice questions for generative ai students in simple tone. \n",
      "Make sure the questions are not repeated and check all the questions to be conforming the text as well.\n",
      "Make sure to format your response like  RESPONSE_JSON below  and use it as a guide. Ensure to make 5 MCQs\n",
      "### RESPONSE_JSON\n",
      "{\"1\": {\"mcq\": \"multiple choice question\", \"options\": {\"a\": \"choice here\", \"b\": \"choice here\", \"c\": \"choice here\", \"d\": \"choice here\"}, \"correct\": \"correct answer\"}, \"2\": {\"mcq\": \"multiple choice question\", \"options\": {\"a\": \"choice here\", \"b\": \"choice here\", \"c\": \"choice here\", \"d\": \"choice here\"}, \"correct\": \"correct answer\"}, \"3\": {\"mcq\": \"multiple choice question\", \"options\": {\"a\": \"choice here\", \"b\": \"choice here\", \"c\": \"choice here\", \"d\": \"choice here\"}, \"correct\": \"correct answer\"}}\n",
      "\n",
      "\u001b[0m\n",
      "\n",
      "\u001b[1m> Finished chain.\u001b[0m\n",
      "\n",
      "\u001b[1m> Finished chain.\u001b[0m\n"
     ]
    }
   ],
   "source": [
    "with get_openai_callback() as cb:\n",
    "    response=generate_evaluate_chain(\n",
    "        {\n",
    "            \"text\": TEXT,\n",
    "            \"number\": NUMBER,\n",
    "            \"subject\":SUBJECT,\n",
    "            \"tone\":TONE,\n",
    "            \"response_json\": json.dumps(RESPONSE_JSON)\n",
    "        }\n",
    "    )"
   ]
  },
  {
   "cell_type": "code",
   "execution_count": 56,
   "metadata": {},
   "outputs": [
    {
     "name": "stdout",
     "output_type": "stream",
     "text": [
      "Total Tokens:9693\n",
      "Prompt Tokens:8898\n",
      "Completion Tokens:795\n",
      "Total Cost:0.0056415\n"
     ]
    }
   ],
   "source": [
    "print(f\"Total Tokens:{cb.total_tokens}\")\n",
    "print(f\"Prompt Tokens:{cb.prompt_tokens}\")\n",
    "print(f\"Completion Tokens:{cb.completion_tokens}\")\n",
    "print(f\"Total Cost:{cb.total_cost}\")"
   ]
  },
  {
   "cell_type": "code",
   "execution_count": 57,
   "metadata": {},
   "outputs": [
    {
     "data": {
      "text/plain": [
       "{'text': 'The term “democratizing innovation” was coined by MIT’s Eric von Hippel, who, since the mid-1970s, has been researching and writing about the potential for users of products and services to develop what they need themselves rather than simply relying on companies to do so. In the past two decades or so, the notion of deeply involving users in the innovation process has taken off, and today companies use crowdsourcing and innovation contests to generate a multitude of new ideas. However, many enterprises struggle to capitalize on these contributions because of four challenges.\\n\\nFirst, efforts to democratize innovation may result in evaluation overload. Crowdsourcing, for instance, may produce a flood of ideas, many of which end up being dumped or disregarded because companies have no efficient way to evaluate them or merge incomplete or minor ideas that could prove potent in combination.\\n\\nSecond, companies may fall prey to the curse of expertise. Domain experts who are best at generating and identifying feasible ideas often struggle with generating or even accepting novel ideas.\\n\\nThird, people who lack domain expertise may identify novel ideas but may be unable to provide the details that would make the ideas feasible. They can’t translate messy ideas into coherent designs.\\n\\nAnd finally, companies have trouble seeing the forest for the trees. Organizations focus on synthesizing a host of customer requirements but struggle to produce a comprehensive solution that will appeal to the community at large.\\n\\nGenerative AI tools can solve an important challenge faced in idea contests: combining or merging a large number of ideas to produce much stronger ones.\\n\\nOur research and our experience working with companies, academic institutions, governments, and militaries on hundreds of innovation efforts—some with and some without the use of generative AI—have demonstrated that this technology can help organizations overcome these challenges. It can augment the creativity of employees and customers and help them generate and identify novel ideas—and improve the quality of raw ideas. We have observed the following five ways.\\n\\n1. Promote Divergent Thinking\\nGenerative AI can support divergent thinking by making associations among remote concepts and producing ideas drawn from them. Here’s an example of how we used Midjourney, a text-to-image algorithm that can detect analogical resemblances between images, to generate novel product designs based on textual prompts from a human. (We utilized Midjourney, ChatGPT, and Stable Diffusion for the examples in this article, but they are just a few of a host of generative AI tools that are now available.) We asked Midjourney to create an image that combined an elephant and a butterfly, and it produced the chimera we dubbed “phantafly.”\\n\\nWe then used the detailed rendering from Midjourney to inspire prompts in Stable Diffusion, another popular text-to-image model. Stable Diffusion generated a range of ideas for different product categories, including chairs and artisanal chocolate candies. \\n\\nA grouping of three images. The first is a typical gray elephant but with splayed ears the color and shape of a blue butterfly’s wings and with a colorful butterfly at the end of its tail. The second is a five by four grid. Each of the twenty squares contains a colorful chair with elements of the elephant-butterfly creation. The third is a five by four grid. Each of the twenty squares contains what look like handcrafted chocolates, each with different characteristics of the elephant-butterfly creation.\\nThe authors prompted Midjourney to produce an image combining an elephant and a butterfly; they dubbed this creation “phantafly” (left). Then the authors prompted Stable Diffusion to generate designs for chairs and for artisanal chocolates inspired by “phantafly” (right).Midjourney; Stable Diffusion\\nRapidly and inexpensively producing a plethora of designs in this way allows a company to evaluate a wide range of product concepts quickly. For example, a clothing company that uses generative AI to create new designs for T-shirts could stay on top of trends and offer a constantly changing selection of products to customers.\\n\\nConsider another example of how this technology can connect ideas to create concepts that an individual or a team might never have come up with themselves. We used ChatGPT, a type of generative AI known as a large language model, to guide the production of ideas. We asked it to generate ideas through a process of trisociation by connecting three distinct entities (an extension of the bisociation creativity technique). Our team gave ChatGPT the following prompt: “You will play the role of an ideator. You will randomly generate 10 common nouns. You will then randomly select any two of the 10 nouns. You will then ask me for a third noun. You will generate a business idea by combining or associating the two nouns you identified and the noun I identified.”\\n\\nChatGPT generated the nouns “food” and “technology.” When prompted, we provided the additional noun “car.” ChatGPT produced the following business idea in short order: “A smart food-delivery service that uses self-driving cars to transport meals to customers. The technology aspect could involve using AI to optimize delivery routes, track food temperature in real time, and provide customers with real-time updates on the status of their orders. The service could target busy professionals and families who want convenient and healthy meal options without sacrificing taste and quality.”\\n\\nIn a separate round, ChatGPT produced the nouns “airline” and “chair.” When prompted, we provided “university,” and ChatGPT came up with a business concept that provides a convenient, cost-effective way for students and academics to travel to conferences and workshops around the world along with access to a library of educational books during the flight. It proposed that the company be called Fly and Study or Edu-Fly.\\n\\n2. Challenge Expertise Bias\\nDuring the early stages of new-product development, atypical designs created by generative AI can inspire designers to think beyond their preconceptions of what is possible or desirable in a product in terms of both form and function. This approach can lead to solutions that humans might never have imagined using a traditional approach, where the functions are determined first and the form is then designed to accommodate them. These inputs can help overcome biases such as design fixation (an overreliance on standard design forms), functional fixedness (a lack of ability to imagine a use beyond the traditional one), and the Einstellung effect, where individuals’ previous experiences impede them from considering new ways to solve problems.\\n\\nHere’s an example of this process. We asked Stable Diffusion to generate generic designs of crab-inspired toys but provided it with no functional specifications. Then we imagined functional capabilities after seeing the designs. For instance, in the collection of crab-inspired toys shown below, the image in the top left could be developed into a wall-climbing toy; the image next to it could be a toy that launches a small ball across a room. The crab on a plate near the center could become a slow-feeder dish for pets.\\n\\nA five by four grid of images; each of the twenty squares contains a picture of a different crab-inspired toy design. The toy designs vary in color, composition, and style.\\nThe authors asked Stable Diffusion to come up with crab-inspired toy concepts.Stable Diffusion\\nThis is not a completely novel way to come up with unusual products: Much of the architecture and ride functionality in theme parks such as Disney World has been driven by a desire to re-create scenes and characters from a story. But generative AI tools can help jump-start a company’s imaginative designs.\\n\\n3. Assist in Idea Evaluation\\nGenerative AI tools can assist in other aspects of the front end of innovation, including by increasing the specificity of ideas and by evaluating ideas and sometimes combining them. Consider an innovation challenge where the goal is to identify ways to minimize food waste. ChatGPT assessed the pros and cons of three raw ideas: (1) packaging with dynamic expiration dates (labels that automatically change either the dates or colors based on the environmental conditions in the places where they are stored); (2) an app to help users donate food; and (3) a campaign to educate people on types of expiration dates and what they represent in terms of freshness and fitness for use. ChatGPT produced a balanced analysis of the pros and cons that mirrored what we might expect from an exchange between two interested persons discussing the merits of such ideas.\\n\\nWhen ChatGPT evaluated the concept of dynamic expiration-date packaging, for instance, it determined that it would help consumers better understand the shelf life of products and encourage food manufacturers to produce smaller batches that would be replenished more frequently on grocery shelves. In addition, ChatGPT pointed out that dynamic expiration dates may require significant changes to the manufacturing and packaging process and as a result, could increase the costs to both manufacturers and consumers.\\n\\nChatGPT determined that the food-donation app could encourage people to use up their food before it goes bad and reduce food waste by giving unopened, edible food to those in need. It cautioned that the app may require a large user base to be effective and that the transportation and distribution of food from a wide variety of unregulated sources could pose safety concerns.\\n\\nGenerative AI’s greatest potential is not replacing humans; it is to assist humans in their efforts to create hitherto unimaginable solutions.\\n\\nIt stated that the pros of an education program for consumers were increasing consumer awareness of the meaning of different expiration labels and helping them make more-informed decisions about food purchases and waste. But ChatGPT warned that this education program could be overly complex because expiration dates are not standardized across all food products. And it cautioned that educating users on different types of expiration dates can be costly if the program is broad in scope, particularly if it involves widespread campaigns or educational materials.\\n\\nGenerative AI can go beyond simple pros and cons and help humans evaluate dimensions of creativity such as novelty, feasibility, specificity, impact, and workability. We asked ChatGPT to assess the same examples using these criteria.\\n\\nHere is its assessment of the dynamic expiration-date packaging concept:\\nNovelty: Somewhat novel. There have been efforts to develop smart packaging that can extend the shelf life of food products, but the idea of dynamic expiration dates is an emerging concept.\\n\\nFeasibility: May be challenging to implement as it requires the development of new packaging materials and technologies. It would also require collaboration with food manufacturers, regulators, and distributors.\\n\\nSpecificity: It’s specific in that it addresses the problem of food waste by providing consumers with more-accurate expiration dates for their food.\\n\\nImpact: Could have a significant impact on reducing food waste and improving food safety. When provided with more-accurate expiration dates, consumers would be more likely to use their food before it goes bad.\\n\\nWorkability: It would most likely require significant resources and expertise to develop and implement and may take several years to fully realize its potential.\\n\\nHere is ChatGPT’s assessment of the app for donating food close to expiration:\\nNovelty: Not particularly novel. There are already many programs and organizations dedicated to reducing food waste and donating surplus food to those in need.\\n\\nFeasibility: Highly feasible. There are many established models and an infrastructure in place to support food donation efforts.\\n\\nSpecificity: Specific in its aim to reduce food waste and address issues of food insecurity.\\n\\nImpact: Has the potential to make a significant impact as it addresses both food waste and hunger. By redirecting surplus food to those in need, it can help reduce food waste while also improving food security for vulnerable populations.\\n\\nWorkability: Highly workable in that it can be implemented quickly and at a relatively low cost. It would require partnerships with food manufacturers, distributors, and food banks, as well as volunteers to collect and distribute the donated food.\\n\\nFinally, here is how ChatGPT evaluated the idea to educate users on different types of expiration dates:\\nNovelty: Not particularly novel. There have been efforts to educate consumers on the meaning of expiration dates and how to properly store food to extend its shelf life.\\n\\nFeasibility: Highly feasible. It can be implemented through various means, such as public awareness campaigns, educational materials, and media outreach.\\n\\nSpecificity: Specific in its aim to educate consumers on the different expiration dates and how to properly store food to reduce food waste.\\n\\nImpact: Potentially significant. Educating consumers on the different expiration dates and how to properly store food will make them more mindful of food waste and take steps to reduce it.\\n\\nWorkability: Highly workable and can be implemented at a relatively low cost. It would require collaboration with food industry groups, government agencies, and other organizations to develop and distribute educational materials.\\n\\nUsing ChatGPT’s assessments, it would be relatively easy to evaluate these three concepts, or quickly score or organize them based on the criteria that matter most.\\n\\n4. Support Idea Refinement\\nGenerative AI tools can solve an important challenge faced in idea contests: combining or merging a large number of ideas to produce much stronger ones. For example, an organization that is trying to win a contract or a grant to develop a food-waste-reduction program can use the tools to combine the three concepts discussed earlier. We did this in two steps. First, we asked ChatGPT to flesh out each of the concepts:\\n\\n“Dynamic expiration dates are a solution aimed at reducing food waste. This involves incorporating technology into packaging that can track and adjust the shelf life of products in real time. By using sensors, the expiration date can be updated based on changes in environmental factors, providing consumers with a more accurate estimate of when a product will go bad.”\\n“An app that enables consumers to donate food close to its expiration date aims to reduce food waste by giving unopened, edible food to those in need. The app connects individuals who have surplus food to local organizations that can use it. By using technology to facilitate food donations, the app can help reduce food waste and provide for those in need.”\\n“Educating users on the different types of expiration dates can help users make informed decisions about purchasing and consuming food, reducing waste, and saving money. By clarifying the meaning of ‘best before,’ ‘use by,’ and other expiration labels, an education campaign can help users better understand how to determine if food is safe to eat and when it is time to dispose of it.”\\nNext we asked ChatGPT to merge all three ideas into one food-waste program. In short order it produced the following description: “The comprehensive food-waste-reduction solution involves creating smart packaging with dynamic expiration dates, establishing a program for donating surplus food, and educating the public on the importance of understanding food expiration dates. The smart packaging helps consumers make informed decisions about food freshness, the donation program ensures surplus food is put to good use, and education raises awareness about the impact of food waste. This solution has the potential to significantly reduce food waste and create a more sustainable future by empowering consumers, working with industry and government, and making better use of surplus food.”\\n\\n5. Facilitate Collaboration with and Among Users\\nWhen developing new product ideas or designs, generative AI can facilitate collaborations between a company’s designers and users of a prospective product and among users themselves. In other words, the technology makes co-creation of new offerings much easier and less expensive. For example, a business can give users access to tools to generate designs and then create a personalized version of the product based on the customer’s preferences. Alternatively, users’ designs could be posted on a crowdsourcing platform where they are evaluated by the community. The top designs could then be further developed by additional collaborators.\\n\\nTo illustrate the potential, we show how a flying car—something people have been trying to develop for more than 100 years without much success—might be designed. We gave Stable Diffusion this prompt: “Design a product that can fly but also drive on the road, a flying automobile.” Stable Diffusion generated several designs, and we selected what we considered to be the most promising one: the vehicle in the lower right corner of the image below.\\n\\nA three by two grid of images; each of the six squares contains an image of a different flying-automobile concept. The vehicles vary in color and form.\\nThe authors asked Stable Diffusion to design a flying automobile.Stable Diffusion\\nThen we asked Stable Diffusion to take that design and reimagine the concept so that the car “resembles a robot eagle.” The image below shows the variations that the generative AI program quickly produced—from the top left design that looks most like a robot eagle to the more feasible concept of a flying automobile in the lower right corner.\\n\\nA three by two grid of images; each of the six squares contains an image of a flying-car design. The six flying cars all have the same basic shape, but each one contains unique variations, such as feather shaped additions at different places, designed to make it resemble a robot eagle.\\nThe authors chose one of the flying-automobile designs and asked Stable Diffusion to reimagine it to resemble a robot eagle.Stable Diffusion\\nA second example illustrates how designers can use such tools to collaborate on thematic variations of a structural design. They began with a flying-automobile design generated by AI and asked the tool to produce versions that resembled a dragonfly, a tiger, a tortoise, and an eagle.\\n\\nA grouping of two images. The first shows a concept for a flying automobile that has two looping wings on top, a turtle-shell shaped body, and wheels and landing gear at the bottom. The second image is a two by two grid; each of the four images in it has a variation of the design from the first.\\nThis image is another AI-generated concept of a flying car (left) with versions that resemble a dragonfly, a tiger, a tortoise, and an eagle (right).Stable Diffusion\\nAn alternate approach is for human collaborators to use a tool like ChatGPT to develop details of the product and then use one like Stable Diffusion to obtain visual designs based on a series of prompts that build upon one another. We gave ChatGPT a similar prompt to what we had given to Stable Diffusion: “Describe a product that can fly but also drive on the road, a flying automobile.”\\n\\nChatGPT provided this description: “The flying automobile is a sleek and futuristic vehicle that is built for the ultimate adventure. It has the appearance of a stylish sports car with smooth curves and polished exterior but with hidden rotors that allow it to take flight.”\\n\\nSubscribe to our Monthly Newsletter\\nStrategy & Execution\\nThe tools you need to craft strategic plans — and how to make them happen.\\nSign Up\\nWhen we gave that description to Stable Diffusion, it provided the image below on the left. Next we asked ChatGPT to reimagine the description to include the information that the product must resemble a dragonfly and have illumination markers for flying at night. It came back with the following: “With its slender body, extended wings, and hidden rotors, the vehicle is reminiscent of a dragonfly come to life. The illuminated markers located along the wings and body create a stunning visual effect, helping to make the vehicle visible in the darkness.”\\n\\nStable Diffusion translated that description into various versions that maintained the feasible design and added elements of illumination based on the pattern of a dragonfly’s wings. The images below on the right are examples.\\n\\nA grouping of two images. The first shows a flying car design that resembles a sleek computer mouse with wheels. It looks aerodynamic, with a tapered nose and no obvious lateral wings. The second image is a two by two grid; each of the four flying car designs is a variation of the first design. Each car has unique differences in the design of its surface, resembling insect wings or streaks of neon light.\\nThe authors used ChatGPT to describe a flying automobile and asked Stable Diffusion to generate a design from that description (left) and then variations on the design that incorporate dragonfly details and illumination (right).Stable Diffusion\\n. . .\\nHumans have boundless creativity. However, the challenge of communicating their concepts in written or visual form restricts vast numbers of people from contributing new ideas. Generative AI can remove this obstacle. As with any truly innovative capability, there will undoubtedly be resistance to it. Long-standing innovation processes will have to change. People with vested interests in the old way of doing things—especially those worried about being rendered obsolete—will resist. But the advantages—the opportunities to dramatically increase the number and novelty of ideas from both inside and outside the organization—will make the journey worthwhile. Generative AI’s greatest potential is not replacing humans; it is to assist humans in their individual and collective efforts to create hitherto unimaginable solutions. It can truly democratize innovation.',\n",
       " 'number': 5,\n",
       " 'subject': 'generative ai',\n",
       " 'tone': 'simple',\n",
       " 'response_json': '{\"1\": {\"mcq\": \"multiple choice question\", \"options\": {\"a\": \"choice here\", \"b\": \"choice here\", \"c\": \"choice here\", \"d\": \"choice here\"}, \"correct\": \"correct answer\"}, \"2\": {\"mcq\": \"multiple choice question\", \"options\": {\"a\": \"choice here\", \"b\": \"choice here\", \"c\": \"choice here\", \"d\": \"choice here\"}, \"correct\": \"correct answer\"}, \"3\": {\"mcq\": \"multiple choice question\", \"options\": {\"a\": \"choice here\", \"b\": \"choice here\", \"c\": \"choice here\", \"d\": \"choice here\"}, \"correct\": \"correct answer\"}}',\n",
       " 'quiz': '\\n{\\n    \"1\": {\\n        \"mcq\": \"What term was coined by MIT\\'s Eric von Hippel to describe the potential for users to develop what they need themselves?\",\\n        \"options\": {\\n            \"a\": \"Innovative Revolution\",\\n            \"b\": \"Innovation Overload\",\\n            \"c\": \"Democratizing Innovation\",\\n            \"d\": \"User Dependency\"\\n        },\\n        \"correct\": \"c\"\\n    },\\n    \"2\": {\\n        \"mcq\": \"Which of the following is a challenge faced by companies in democratizing innovation according to the text?\",\\n        \"options\": {\\n            \"a\": \"Evaluation Underload\",\\n            \"b\": \"Curse of Expertise\",\\n            \"c\": \"Lack of Ideas\",\\n            \"d\": \"Forest Clarity\"\\n        },\\n        \"correct\": \"b\"\\n    },\\n    \"3\": {\\n        \"mcq\": \"How can generative AI support divergent thinking?\",\\n        \"options\": {\\n            \"a\": \"By limiting associations among concepts\",\\n            \"b\": \"By restricting idea generation\",\\n            \"c\": \"By making associations among remote concepts\",\\n            \"d\": \"By discouraging creativity\"\\n        },\\n        \"correct\": \"c\"\\n    },\\n    \"4\": {\\n        \"mcq\": \"What is one way generative AI can assist in idea evaluation?\",\\n        \"options\": {\\n            \"a\": \"By replacing human evaluators\",\\n            \"b\": \"By reducing the number of ideas generated\",\\n            \"c\": \"By increasing the specificity of ideas\",\\n            \"d\": \"By discouraging creativity\"\\n        },\\n        \"correct\": \"c\"\\n    },\\n    \"5\": {\\n        \"mcq\": \"What is the main potential of generative AI according to the text?\",\\n        \"options\": {\\n            \"a\": \"To replace human creativity\",\\n            \"b\": \"To democratize innovation by assisting humans in creating new solutions\",\\n            \"c\": \"To eliminate the need for human collaboration\",\\n            \"d\": \"To restrict idea generation\"\\n        },\\n        \"correct\": \"b\"\\n    }\\n}',\n",
       " 'review': '### RESPONSE_JSON\\n{\"1\": {\"mcq\": \"What term was coined by MIT\\'s Eric von Hippel to describe the potential for users to develop what they need themselves?\", \"options\": {\"a\": \"Innovative solutions\", \"b\": \"Democratizing innovation\", \"c\": \"Crowdsourcing creativity\", \"d\": \"User-centered design\"}, \"correct\": \"b\"}, \\n\"2\": {\"mcq\": \"What is one challenge faced by companies in evaluating ideas from crowdsourcing?\", \"options\": {\"a\": \"Evaluation overload\", \"b\": \"Lack of user involvement\", \"c\": \"Expertise bias\", \"d\": \"Lack of generative AI tools\"}, \"correct\": \"a\"}, \\n\"3\": {\"mcq\": \"How can generative AI support divergent thinking?\", \"options\": {\"a\": \"By limiting the number of ideas generated\", \"b\": \"By making associations among remote concepts\", \"c\": \"By focusing on domain expertise\", \"d\": \"By disregarding minor ideas\"}, \"correct\": \"b\"},\\n\"4\": {\"mcq\": \"What is one way generative AI can assist in idea evaluation?\", \"options\": {\"a\": \"By replacing human evaluators\", \"b\": \"By increasing the specificity of ideas\", \"c\": \"By discouraging creativity\", \"d\": \"By avoiding idea refinement\"}, \"correct\": \"b\"},\\n\"5\": {\"mcq\": \"How can generative AI facilitate collaboration among users?\", \"options\": {\"a\": \"By limiting user access to tools\", \"b\": \"By reducing collaboration opportunities\", \"c\": \"By making co-creation of new offerings easier\", \"d\": \"By discouraging user-generated designs\"}, \"correct\": \"c\"}}'}"
      ]
     },
     "execution_count": 57,
     "metadata": {},
     "output_type": "execute_result"
    }
   ],
   "source": [
    "response"
   ]
  },
  {
   "cell_type": "code",
   "execution_count": 61,
   "metadata": {},
   "outputs": [],
   "source": [
    "quiz=response.get(\"quiz\")"
   ]
  },
  {
   "cell_type": "code",
   "execution_count": 63,
   "metadata": {},
   "outputs": [],
   "source": [
    "quiz=json.loads(quiz)"
   ]
  },
  {
   "cell_type": "code",
   "execution_count": 64,
   "metadata": {},
   "outputs": [],
   "source": [
    "quiz_table_data = []\n",
    "for key, value in quiz.items():\n",
    "    mcq = value[\"mcq\"]\n",
    "    options = \" | \".join(\n",
    "        [\n",
    "            f\"{option}: {option_value}\"\n",
    "            for option, option_value in value[\"options\"].items()\n",
    "            ]\n",
    "        )\n",
    "    correct = value[\"correct\"]\n",
    "    quiz_table_data.append({\"MCQ\": mcq, \"Choices\": options, \"Correct\": correct})"
   ]
  },
  {
   "cell_type": "code",
   "execution_count": 65,
   "metadata": {},
   "outputs": [
    {
     "data": {
      "text/plain": [
       "[{'MCQ': \"What term was coined by MIT's Eric von Hippel to describe the potential for users to develop what they need themselves?\",\n",
       "  'Choices': 'a: Innovative Revolution | b: Innovation Overload | c: Democratizing Innovation | d: User Dependency',\n",
       "  'Correct': 'c'},\n",
       " {'MCQ': 'Which of the following is a challenge faced by companies in democratizing innovation according to the text?',\n",
       "  'Choices': 'a: Evaluation Underload | b: Curse of Expertise | c: Lack of Ideas | d: Forest Clarity',\n",
       "  'Correct': 'b'},\n",
       " {'MCQ': 'How can generative AI support divergent thinking?',\n",
       "  'Choices': 'a: By limiting associations among concepts | b: By restricting idea generation | c: By making associations among remote concepts | d: By discouraging creativity',\n",
       "  'Correct': 'c'},\n",
       " {'MCQ': 'What is one way generative AI can assist in idea evaluation?',\n",
       "  'Choices': 'a: By replacing human evaluators | b: By reducing the number of ideas generated | c: By increasing the specificity of ideas | d: By discouraging creativity',\n",
       "  'Correct': 'c'},\n",
       " {'MCQ': 'What is the main potential of generative AI according to the text?',\n",
       "  'Choices': 'a: To replace human creativity | b: To democratize innovation by assisting humans in creating new solutions | c: To eliminate the need for human collaboration | d: To restrict idea generation',\n",
       "  'Correct': 'b'}]"
      ]
     },
     "execution_count": 65,
     "metadata": {},
     "output_type": "execute_result"
    }
   ],
   "source": [
    "quiz_table_data"
   ]
  },
  {
   "cell_type": "code",
   "execution_count": 66,
   "metadata": {},
   "outputs": [],
   "source": [
    "quiz=pd.DataFrame(quiz_table_data)"
   ]
  },
  {
   "cell_type": "code",
   "execution_count": 67,
   "metadata": {},
   "outputs": [],
   "source": [
    "quiz.to_csv(\"generativeai.csv\",index=False)"
   ]
  },
  {
   "cell_type": "code",
   "execution_count": 1,
   "metadata": {},
   "outputs": [
    {
     "data": {
      "text/plain": [
       "'10_10_2024_14_51_12'"
      ]
     },
     "execution_count": 1,
     "metadata": {},
     "output_type": "execute_result"
    }
   ],
   "source": [
    "from datetime import datetime\n",
    "datetime.now().strftime('%m_%d_%Y_%H_%M_%S')"
   ]
  },
  {
   "cell_type": "code",
   "execution_count": null,
   "metadata": {},
   "outputs": [],
   "source": []
  }
 ],
 "metadata": {
  "kernelspec": {
   "display_name": "Python 3",
   "language": "python",
   "name": "python3"
  },
  "language_info": {
   "codemirror_mode": {
    "name": "ipython",
    "version": 3
   },
   "file_extension": ".py",
   "mimetype": "text/x-python",
   "name": "python",
   "nbconvert_exporter": "python",
   "pygments_lexer": "ipython3",
   "version": "3.11.10"
  }
 },
 "nbformat": 4,
 "nbformat_minor": 2
}
